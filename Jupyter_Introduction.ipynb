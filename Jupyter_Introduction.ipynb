{
  "nbformat": 4,
  "nbformat_minor": 0,
  "metadata": {
    "colab": {
      "name": "Jupyter_Introduction.ipynb",
      "provenance": [],
      "collapsed_sections": []
    },
    "kernelspec": {
      "name": "python3",
      "display_name": "Python 3"
    },
    "language_info": {
      "name": "python"
    }
  },
  "cells": [
    {
      "cell_type": "markdown",
      "source": [
        "# My Jupyter Notebook on IBM Watson Studio"
      ],
      "metadata": {
        "id": "6IZ4Wmq1fBQX"
      }
    },
    {
      "cell_type": "markdown",
      "source": [
        "**Azamat Kuzdibay**\n",
        "\n",
        "Avionics technician"
      ],
      "metadata": {
        "id": "iW9h9_T7fNif"
      }
    },
    {
      "cell_type": "markdown",
      "source": [
        "*I'm interested in data science because it may help me in my current job. To analysis defects on aircraft before they happen*"
      ],
      "metadata": {
        "id": "cdWJDkKKffbO"
      }
    },
    {
      "cell_type": "markdown",
      "source": [
        "### Implement bulit-in function print()"
      ],
      "metadata": {
        "id": "x01PV_qLguG1"
      }
    },
    {
      "cell_type": "code",
      "source": [
        "print(\"Hello World\")"
      ],
      "metadata": {
        "colab": {
          "base_uri": "https://localhost:8080/"
        },
        "id": "Aj7DjugdhAPg",
        "outputId": "364d1400-3cbd-45de-aeec-fd5336a68a37"
      },
      "execution_count": 1,
      "outputs": [
        {
          "output_type": "stream",
          "name": "stdout",
          "text": [
            "Hello World\n"
          ]
        }
      ]
    },
    {
      "cell_type": "markdown",
      "source": [
        "1. First item\n",
        "2. Second item\n",
        "\n",
        "***\n",
        "Some important text\n",
        "***\n",
        "\n",
        "* First item\n",
        "* Second item\n",
        "\n",
        "| | Sentence #  | Word    | POS   | Tag   |\n",
        "|---:|:-------------|:-----------|:------|:------|\n",
        "| 1 | Sentence: 1  | They       | PRP   | O     |\n",
        "| 2 | Sentence: 1  | marched    | VBD   | O     |\n",
        "\n",
        "https://www.google.com\n",
        "\n",
        "\n",
        "> Some important text\n",
        "\n",
        "> I like Data Science\n",
        "\n",
        "~~IBM Watson Studio~~\n",
        "\n",
        "``Highlighted text``"
      ],
      "metadata": {
        "id": "fTJ2ThcAhF4O"
      }
    },
    {
      "cell_type": "code",
      "source": [
        ""
      ],
      "metadata": {
        "id": "TPGgx1Oqljvy"
      },
      "execution_count": null,
      "outputs": []
    }
  ]
}